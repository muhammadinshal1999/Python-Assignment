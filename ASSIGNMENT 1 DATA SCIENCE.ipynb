{
 "cells": [
  {
   "cell_type": "code",
   "execution_count": 1,
   "id": "cc805b90",
   "metadata": {},
   "outputs": [
    {
     "name": "stdout",
     "output_type": "stream",
     "text": [
      "     Twinkle, twinkle, little star,     \n",
      "            How I wonder what you are!           \n",
      "                   Up above the world so high,                    \n",
      "                   Like a diamond in the sky.                   \n",
      "     Twinkle, twinkle, little star,     \n",
      "            How I wonder what you are            \n"
     ]
    }
   ],
   "source": [
    "\"\"\"1. Write a Python program to print the following string in a specific format (see the\n",
    "output).\n",
    "\n",
    "Twinkle, twinkle, little star,\n",
    "How I wonder what you are!\n",
    "Up above the world so high,\n",
    "Like a diamond in the sky.\n",
    "\n",
    "Twinkle, twinkle, little star,\n",
    "How I wonder what you are\"\"\"\n",
    "\n",
    "line1 = \"Twinkle, twinkle, little star,\".center(40);\n",
    "line2 = \"How I wonder what you are!\".center(49);\n",
    "line3 = \"Up above the world so high,\".center(49+17);\n",
    "line4 = \"Like a diamond in the sky.\".center(49+15);\n",
    "line5 = \"Twinkle, twinkle, little star,\".center(40);\n",
    "line6 = \"How I wonder what you are\".center(49);\n",
    "print(line1);\n",
    "print(line2);\n",
    "print(line3);\n",
    "print(line4);\n",
    "print(line5);\n",
    "print(line6);"
   ]
  },
  {
   "cell_type": "code",
   "execution_count": 2,
   "id": "cd79ebc8",
   "metadata": {},
   "outputs": [
    {
     "name": "stdout",
     "output_type": "stream",
     "text": [
      "PYTHON VERSION: \n",
      "3.8.8 (default, Apr 13 2021, 15:08:03) [MSC v.1916 64 bit (AMD64)]\n"
     ]
    }
   ],
   "source": [
    "#2. Write a Python program to get the Python version you are using\n",
    "\n",
    "import platform;\n",
    "print(\"PYTHON VERSION: \\n\" + platform.sys.version);"
   ]
  },
  {
   "cell_type": "code",
   "execution_count": 3,
   "id": "0c5078a2",
   "metadata": {},
   "outputs": [
    {
     "name": "stdout",
     "output_type": "stream",
     "text": [
      "CURRENT DATE AND TIME:\n",
      "2022-01-01 20:18:38.076308\n"
     ]
    }
   ],
   "source": [
    "#3. Write a Python program to display the current date and time.\n",
    "\n",
    "import datetime;\n",
    "print(\"CURRENT DATE AND TIME:\");\n",
    "print(datetime.datetime.now());"
   ]
  },
  {
   "cell_type": "code",
   "execution_count": 5,
   "id": "b68a0ceb",
   "metadata": {},
   "outputs": [
    {
     "name": "stdout",
     "output_type": "stream",
     "text": [
      "ENTER THE RADIUS (in cm)2\n",
      "AREA OF CIRCLE:12.571428571428571 cm\n"
     ]
    }
   ],
   "source": [
    "#4. Write a Python program which accepts the radius of a circle from the user and compute the area.\n",
    "\n",
    "radius = int(input(\"ENTER THE RADIUS (in cm)\"));\n",
    "area = (22/7)*(radius**2);\n",
    "print(\"AREA OF CIRCLE:\"+str(area)+ \" cm\");"
   ]
  },
  {
   "cell_type": "code",
   "execution_count": 6,
   "id": "2e90964f",
   "metadata": {},
   "outputs": [
    {
     "name": "stdout",
     "output_type": "stream",
     "text": [
      "ENTER YOUR FIRST NAME Muhammad\n",
      "ENTER YOUR LAST NAME Inshal\n",
      "RESULT: Inshal Muhammad\n"
     ]
    }
   ],
   "source": [
    "\"\"\"5. Write a Python program which accepts the user's first and last name and print them in\n",
    "reverse order with a space between them.\"\"\"\n",
    "\n",
    "first_name = input(\"ENTER YOUR FIRST NAME \");\n",
    "last_name = input (\"ENTER YOUR LAST NAME \");\n",
    "print (\"RESULT: \"+ last_name + \" \" + first_name);"
   ]
  },
  {
   "cell_type": "code",
   "execution_count": 7,
   "id": "4bfd8cf5",
   "metadata": {},
   "outputs": [
    {
     "name": "stdout",
     "output_type": "stream",
     "text": [
      "ENTER INPUT 1 Data\n",
      "ENTER INPUT 2 Science\n",
      "RESULT: Data + Science\n"
     ]
    }
   ],
   "source": [
    "#6.Write a python program which takes two inputs from user and print them addition.\n",
    "\n",
    "input1 = input(\"ENTER INPUT 1 \");\n",
    "input2 = input(\"ENTER INPUT 2 \");\n",
    "print(\"RESULT: \"+input1+ \" + \" +input2);"
   ]
  },
  {
   "cell_type": "code",
   "execution_count": null,
   "id": "dee2be6e",
   "metadata": {},
   "outputs": [],
   "source": []
  }
 ],
 "metadata": {
  "kernelspec": {
   "display_name": "Python 3",
   "language": "python",
   "name": "python3"
  },
  "language_info": {
   "codemirror_mode": {
    "name": "ipython",
    "version": 3
   },
   "file_extension": ".py",
   "mimetype": "text/x-python",
   "name": "python",
   "nbconvert_exporter": "python",
   "pygments_lexer": "ipython3",
   "version": "3.8.8"
  }
 },
 "nbformat": 4,
 "nbformat_minor": 5
}
