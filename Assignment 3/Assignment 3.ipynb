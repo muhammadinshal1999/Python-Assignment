{
 "cells": [
  {
   "cell_type": "code",
   "execution_count": 10,
   "id": "6aef3c47",
   "metadata": {},
   "outputs": [
    {
     "name": "stdout",
     "output_type": "stream",
     "text": [
      "     Twinkle, twinkle, little star,     \n",
      "            How I wonder what you are!           \n",
      "                   Up above the world so high,                    \n",
      "                   Like a diamond in the sky.                   \n",
      "     Twinkle, twinkle, little star,     \n",
      "            How I wonder what you are            \n"
     ]
    }
   ],
   "source": [
    "\"\"\"1. Write a Python program to print the following string in a specific format (see the\n",
    "output).\n",
    "\n",
    "Twinkle, twinkle, little star,\n",
    "How I wonder what you are!\n",
    "Up above the world so high,\n",
    "Like a diamond in the sky.\n",
    "\n",
    "Twinkle, twinkle, little star,\n",
    "How I wonder what you are\"\"\"\n",
    "\n",
    "line1 = \"Twinkle, twinkle, little star,\".center(40);\n",
    "line2 = \"How I wonder what you are!\".center(49);\n",
    "line3 = \"Up above the world so high,\".center(49+17);\n",
    "line4 = \"Like a diamond in the sky.\".center(49+15);\n",
    "line5 = \"Twinkle, twinkle, little star,\".center(40);\n",
    "line6 = \"How I wonder what you are\".center(49);\n",
    "print(line1);\n",
    "print(line2);\n",
    "print(line3);\n",
    "print(line4);\n",
    "print(line5);\n",
    "print(line6);\n",
    "\n"
   ]
  },
  {
   "cell_type": "code",
   "execution_count": 14,
   "id": "2eaac2f7",
   "metadata": {},
   "outputs": [
    {
     "name": "stdout",
     "output_type": "stream",
     "text": [
      "PYTHON VERSION: \n",
      "3.8.8 (default, Apr 13 2021, 15:08:03) [MSC v.1916 64 bit (AMD64)]\n"
     ]
    }
   ],
   "source": [
    "#2. Write a Python program to get the Python version you are using\n",
    "\n",
    "import platform;\n",
    "print(\"PYTHON VERSION: \\n\" + platform.sys.version);"
   ]
  },
  {
   "cell_type": "code",
   "execution_count": 19,
   "id": "c78a886f",
   "metadata": {},
   "outputs": [
    {
     "name": "stdout",
     "output_type": "stream",
     "text": [
      "CURRENT DATE AND TIME:\n",
      "2021-10-24 00:23:56.220571\n"
     ]
    }
   ],
   "source": [
    "#3. Write a Python program to display the current date and time.\n",
    "\n",
    "import datetime;\n",
    "print(\"CURRENT DATE AND TIME:\");\n",
    "print(datetime.datetime.now());"
   ]
  },
  {
   "cell_type": "code",
   "execution_count": 26,
   "id": "7e3b5481",
   "metadata": {},
   "outputs": [
    {
     "name": "stdout",
     "output_type": "stream",
     "text": [
      "ENTER THE RADIUS 3\n",
      "AREA OF CIRCLE:\n",
      "28.285714285714285\n"
     ]
    }
   ],
   "source": [
    "#4. Write a Python program which accepts the radius of a circle from the user and compute the area.\n",
    "\n",
    "radius = int(input(\"ENTER THE RADIUS \"));\n",
    "area = (22/7)*(radius**2);\n",
    "print(\"AREA OF CIRCLE:\");\n",
    "print(area);"
   ]
  },
  {
   "cell_type": "code",
   "execution_count": 6,
   "id": "2b5d11b5",
   "metadata": {},
   "outputs": [
    {
     "name": "stdout",
     "output_type": "stream",
     "text": [
      "ENTER YOUR FIRST NAME Muhammad\n",
      "ENTER YOUR LAST NAME Inshal\n",
      "RESULT: Inshal Muhammad\n"
     ]
    }
   ],
   "source": [
    "\"\"\"5. Write a Python program which accepts the user's first and last name and print them in\n",
    "reverse order with a space between them.\"\"\"\n",
    "\n",
    "first_name = input(\"ENTER YOUR FIRST NAME \");\n",
    "last_name = input (\"ENTER YOUR LAST NAME \");\n",
    "print (\"RESULT: \"+ last_name + \" \" + first_name);"
   ]
  },
  {
   "cell_type": "code",
   "execution_count": 5,
   "id": "3ce55c38",
   "metadata": {},
   "outputs": [
    {
     "name": "stdout",
     "output_type": "stream",
     "text": [
      "ENTER INPUT 1 Squid\n",
      "ENTER INPUT 2 Game\n",
      "RESULT: Squid + Game\n"
     ]
    }
   ],
   "source": [
    "#6.Write a python program which takes two inputs from user and print them addition.\n",
    "\n",
    "input1 = input(\"ENTER INPUT 1 \");\n",
    "input2 = input(\"ENTER INPUT 2 \");\n",
    "print(\"RESULT: \"+input1+ \" + \" +input2);"
   ]
  },
  {
   "cell_type": "code",
   "execution_count": 19,
   "id": "112f0271",
   "metadata": {},
   "outputs": [
    {
     "name": "stdout",
     "output_type": "stream",
     "text": [
      "ENTER CHEMISTRY MARKS 90\n",
      "ENTER PHYSICS MARKS 80\n",
      "ENTER MATHEMATICS MARKS 70\n",
      "ENTER COMPUTER SCIENCE MARKS 65\n",
      "ENTER BIOLOGY MARKS 45\n",
      "TOTAL MARKS: \n",
      "350\n",
      "--------------\n",
      "PERCENTAGE:\n",
      "70.0\n",
      "--------------\n",
      "GRADE: A\n",
      "--------------\n"
     ]
    }
   ],
   "source": [
    "\"\"\"7. Write a program which takes 5 inputs from user for different subject’s marks, total it\n",
    "and generate mark sheet using grades?\"\"\"\n",
    "\n",
    "chem = int(input(\"ENTER CHEMISTRY MARKS \"));\n",
    "phy = int(input(\"ENTER PHYSICS MARKS \"));\n",
    "maths = int(input(\"ENTER MATHEMATICS MARKS \"));\n",
    "comp = int(input(\"ENTER COMPUTER SCIENCE MARKS \"));\n",
    "bio = int(input(\"ENTER BIOLOGY MARKS \"));\n",
    "print(\"TOTAL MARKS: \");\n",
    "total=chem+phy+maths+comp+bio;\n",
    "print(total);\n",
    "print(\"--------------\");\n",
    "print(\"PERCENTAGE:\");\n",
    "percent= (total/500)*100\n",
    "print(percent);\n",
    "print(\"--------------\");\n",
    "\n",
    "if percent>100 or percent<0:\n",
    "    print(\"ERROR\");\n",
    "elif percent>=80 or percent==100:\n",
    "    print(\"GRADE: A+\");\n",
    "elif percent>=70 or percent>70:\n",
    "    print(\"GRADE: A\");\n",
    "elif percent>=60 or percent>60:\n",
    "    print(\"GRADE: B\");\n",
    "elif percent>=50 or percent>50:\n",
    "    print(\"GRADE: C\");\n",
    "elif percent>=40 or percent>40:\n",
    "    print(\"GRADE: D\");\n",
    "elif percent>=35 or percent>35:\n",
    "    print(\"GRADE: E\");\n",
    "else:\n",
    "    print(\"FAILED\");\n",
    "print(\"--------------\");"
   ]
  },
  {
   "cell_type": "code",
   "execution_count": 27,
   "id": "8d3ce969",
   "metadata": {},
   "outputs": [
    {
     "name": "stdout",
     "output_type": "stream",
     "text": [
      "ENTER THE NUMBER 55\n",
      "\n",
      "RESULT: \n",
      "ODD NUMBER\n"
     ]
    }
   ],
   "source": [
    "\"\"\"8. Write a program which take input from user and identify that the given number is even\n",
    "or odd?\"\"\"\n",
    "\n",
    "num=int(input(\"ENTER THE NUMBER \"));\n",
    "print(\"\\nRESULT: \")\n",
    "if num%2==0:\n",
    "    print(\"EVEN NUMBER\");\n",
    "else:\n",
    "    print(\"ODD NUMBER\");"
   ]
  },
  {
   "cell_type": "code",
   "execution_count": 2,
   "id": "3ec75390",
   "metadata": {},
   "outputs": [
    {
     "name": "stdout",
     "output_type": "stream",
     "text": [
      "FIRST STUDENT Ali\n",
      "SECOND STUDENT  Samad\n",
      "THIRD STUDENT  Yahya\n",
      "FOURTH STUDENT  Zuhaib\n",
      "['Ali', 'Samad', 'Yahya', 'Zuhaib']\n",
      "\n",
      "LENGTH OF THE LIST:\n",
      "4\n"
     ]
    }
   ],
   "source": [
    "#9. Write a program which print the length of the list?\n",
    "\n",
    "list1=[input(\"FIRST STUDENT \"),input(\"SECOND STUDENT  \"),input(\"THIRD STUDENT  \"),input(\"FOURTH STUDENT  \")];\n",
    "print(list1);\n",
    "print(\"\\nLENGTH OF THE LIST:\");\n",
    "print(len(list1));"
   ]
  },
  {
   "cell_type": "code",
   "execution_count": 4,
   "id": "26fd6f67",
   "metadata": {},
   "outputs": [
    {
     "name": "stdout",
     "output_type": "stream",
     "text": [
      "FIRST NUMBER  2\n",
      "SECOND NUMBER  33\n",
      "THIRD NUMBER  4\n",
      "FOURTH NUMBER  1\n",
      "\n",
      "SUM OF ALL NUMERIC ITEMS IN A LIST:\n",
      "40\n"
     ]
    }
   ],
   "source": [
    "#10.Write a Python program to sum all the numeric items in a list?\n",
    "\n",
    "list1=[int(input(\"FIRST NUMBER  \")),int(input(\"SECOND NUMBER  \")),int(input(\"THIRD NUMBER  \")),int(input(\"FOURTH NUMBER  \"))];\n",
    "print(\"\\nSUM OF ALL NUMERIC ITEMS IN A LIST:\");\n",
    "print(list1[0]+list1[1]+list1[2]+list1[3]);\n"
   ]
  },
  {
   "cell_type": "code",
   "execution_count": 10,
   "id": "571437b0",
   "metadata": {},
   "outputs": [
    {
     "name": "stdout",
     "output_type": "stream",
     "text": [
      "FIRST NUMBER  566\n",
      "SECOND NUMBER  789\n",
      "THIRD NUMBER  443\n",
      "FOURTH NUMBER  235\n",
      "\n",
      "LARGEST NUMBER IN LIST IS:\n",
      "789\n"
     ]
    }
   ],
   "source": [
    "# 11.Write a Python program to get the largest number from a numeric list.\n",
    "\n",
    "list1 = [int(input(\"FIRST NUMBER  \")),int(input(\"SECOND NUMBER  \")),int(input(\"THIRD NUMBER  \")),int(input(\"FOURTH NUMBER  \"))];\n",
    "print(\"\\nLARGEST NUMBER IN LIST IS:\")\n",
    "print(max(list1));"
   ]
  },
  {
   "cell_type": "code",
   "execution_count": 33,
   "id": "e163fcb5",
   "metadata": {},
   "outputs": [
    {
     "name": "stdout",
     "output_type": "stream",
     "text": [
      "1\n",
      "1\n",
      "1\n",
      "2\n",
      "3\n",
      "\n",
      "\n",
      "\n",
      "\n",
      "\n",
      "\n",
      "\n"
     ]
    }
   ],
   "source": [
    "\"\"\"12. Take a list, say for example this one:\n",
    "a = [1, 1, 2, 3, 5, 8, 13, 21, 34, 55, 89]\n",
    "Write a program that prints out all the elements of the list that are less than 5.\"\"\"\n",
    "\n",
    "list1 = [1,1,2,3,5,8,13,21,34,55,89];\n",
    "if list1[0]<5:\n",
    "    print(list1[0]);\n",
    "else:\n",
    "    print();\n",
    "if list1[0]<5:\n",
    "    print(list1[0]);\n",
    "else:\n",
    "    print();\n",
    "if list1[1]<5:\n",
    "    print(list1[1]);\n",
    "else:\n",
    "    print();\n",
    "if list1[2]<5:\n",
    "    print(list1[2]);\n",
    "else:\n",
    "    print();\n",
    "if list1[3]<5:\n",
    "    print(list1[3]);\n",
    "else:\n",
    "    print();\n",
    "if list1[4]<5:\n",
    "    print(list1[4]);\n",
    "else:\n",
    "    print();\n",
    "if list1[5]<5:\n",
    "    print(list1[5]);\n",
    "else:\n",
    "    print();\n",
    "if list1[6]<5:\n",
    "    print(list1[6]);\n",
    "else:\n",
    "    print();\n",
    "if list1[7]<5:\n",
    "    print(list1[7]);\n",
    "else:\n",
    "    print();\n",
    "if list1[8]<5:\n",
    "    print(list1[8]);\n",
    "else:\n",
    "    print();\n",
    "if list1[9]<5:\n",
    "    print(list1[9]);\n",
    "else:\n",
    "    print();\n",
    "if list1[10]<5:\n",
    "    print(list1[10]);\n",
    "else:\n",
    "    print();\n"
   ]
  },
  {
   "cell_type": "code",
   "execution_count": null,
   "id": "af689ace",
   "metadata": {},
   "outputs": [],
   "source": []
  }
 ],
 "metadata": {
  "kernelspec": {
   "display_name": "Python 3",
   "language": "python",
   "name": "python3"
  },
  "language_info": {
   "codemirror_mode": {
    "name": "ipython",
    "version": 3
   },
   "file_extension": ".py",
   "mimetype": "text/x-python",
   "name": "python",
   "nbconvert_exporter": "python",
   "pygments_lexer": "ipython3",
   "version": "3.8.8"
  }
 },
 "nbformat": 4,
 "nbformat_minor": 5
}
